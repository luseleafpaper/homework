{
 "cells": [
  {
   "cell_type": "markdown",
   "metadata": {},
   "source": [
    "# Homework 1.  Individual Homework\n",
    "\n",
    "Due date:  September 12, 11:59pm EST\n",
    "Check your homework into the HW1 drop box.\n"
   ]
  },
  {
   "cell_type": "markdown",
   "metadata": {},
   "source": [
    "Problem A.  [30 pts]  We are going to use 1 million digits of pi available at http://www.exploratorium.edu/pi/pi_archive/Pi10-6.html\n"
   ]
  },
  {
   "cell_type": "markdown",
   "metadata": {},
   "source": [
    "Problem A1.\n",
    "Compute and print out the marginal probabilities P(Xi) for each of the digits across all million numbers.  What kind of What kind of distribution does this suggest?\n"
   ]
  },
  {
   "cell_type": "code",
   "execution_count": 3,
   "metadata": {
    "collapsed": false
   },
   "outputs": [
    {
     "name": "stdout",
     "output_type": "stream",
     "text": [
      "Frequencies of the digits starting with 0 and ending with 9: \n",
      " [99959, 99758, 100026, 100229, 100230, 100359, 99548, 99800, 99985, 100106]\n",
      "Sum total of the frequencies, should be 1MM: \n",
      " 1000000\n",
      "Marginal Probabilities for each digit: \n",
      " [0.099959, 0.099758, 0.100026, 0.100229, 0.10023, 0.100359, 0.099548, 0.0998, 0.099985, 0.100106]\n"
     ]
    }
   ],
   "source": [
    "import requests\n",
    "from bs4 import BeautifulSoup\n",
    "\n",
    "\n",
    "### First, scrape the contents of the webpage containing my data \n",
    "r = requests.get('http://www.exploratorium.edu/pi/pi_archive/Pi10-6.html') \n",
    "page_text = r.text \n",
    "\n",
    "### Next, find just the string starting with 3.14\n",
    "soup = BeautifulSoup(page_text, \"lxml\")\n",
    "pre_text = \"\"\n",
    "for tag in soup.findAll(\"pre\"):\n",
    "    pre_text = tag.text \n",
    "pi = pre_text.split(\"Pi = 3.\")[1] \n",
    "### I don't know if I should include the \"3\" in 3.14, but if I don't the total is 1MM and 1. So I'll strip the 3\n",
    "\n",
    "### Create an array of characters from the digits of pi \n",
    "char_array = list(pi)\n",
    "\n",
    "### Create a results array to store my frequencies \n",
    "frequencies = [0,0,0,0,0,0,0,0,0,0]\n",
    "\n",
    "### Iterate over the array containing the digits of pi and sum up the frequency of each integer. \n",
    "for item in char_array: \n",
    "    try: \n",
    "        number = int(item)\n",
    "        index = number\n",
    "        current_frequency = frequencies[index] \n",
    "        new_frequency = current_frequency + 1 \n",
    "        frequencies[index] = new_frequency \n",
    "    except ValueError as e: #Disregard non-numeric values\n",
    "        pass \n",
    "    \n",
    "print(\"Frequencies of the digits starting with 0 and ending with 9: \\n\" , frequencies)\n",
    "\n",
    "total = sum(i for i in frequencies)\n",
    "print(\"Sum total of the frequencies, should be 1MM: \\n\" , total)\n",
    "\n",
    "marginal_probabilities = [frequency/total for frequency in frequencies]\n",
    "\n",
    "print(\"Marginal Probabilities for each digit: \\n\" , marginal_probabilities)\n"
   ]
  },
  {
   "cell_type": "markdown",
   "metadata": {},
   "source": [
    "Problem A2:\n",
    "Compute the joint probability of P(xi = 1, xi-1 = 3).   Based on this value, what can you say about the independence relationship.    "
   ]
  },
  {
   "cell_type": "code",
   "execution_count": 4,
   "metadata": {
    "collapsed": false
   },
   "outputs": [
    {
     "name": "stdout",
     "output_type": "stream",
     "text": [
      "The frequency of 3 followed by a 1 is:  9938\n",
      "The probability of 3 followed by a 1 in the first 1MM digits of pi is 0.009938009938009938\n"
     ]
    }
   ],
   "source": [
    "### The events are A = a number in position i is 1, and B the number before position i is 3 \n",
    "### So, I'm looking for the probability that 1 is preceded by a 3, or the probability of 31 in the digits \n",
    "\n",
    "### Start by making a numeric array (so far I have a char array)\n",
    "num_array = [] \n",
    "for item in char_array: \n",
    "    try: \n",
    "        number = int(item)\n",
    "        num_array.append(number)\n",
    "    except ValueError as e: #Disregard non-numeric values\n",
    "        pass \n",
    "\n",
    "frequency_of_31 = 0 \n",
    "\n",
    "index_of_next_number = 1 \n",
    "for number in num_array: \n",
    "    if index_of_next_number > len(num_array) - 1 : \n",
    "        break \n",
    "    first_number = number \n",
    "    second_number = num_array[index_of_next_number]\n",
    "    if (first_number == 3) and (second_number==1): \n",
    "        frequency_of_31 += 1 \n",
    "    index_of_next_number+=1 \n",
    "\n",
    "print(\"The frequency of 3 followed by a 1 is: \" , frequency_of_31)\n",
    "sample_space = len(num_array) - 1 # This is how many pairs of consecutive numbers in 1MM digits of pie\n",
    "probability_of_31 = frequency_of_31 / sample_space \n",
    "\n",
    "print(\"The probability of 3 followed by a 1 in the first 1MM digits of pi is\", probability_of_31)\n",
    "\n",
    "### If the two events are independent, then the probability of P(xi=1,xi-1=3) should equal P(xi=1)P(xi-1=3).\n",
    "### From the previous problem, P(xi=1) is roughly 10%. \n",
    "### P(xi-1=3), or the probability of the previous number = 3, equals P(xi=3) unless 1MM digits of pi ends in 3 \n",
    "### Because P(xi=1,xi-1=3) = 0.0099 and P(xi=1)P(xi-1=3) = 0.01, the two events are independent. "
   ]
  },
  {
   "cell_type": "markdown",
   "metadata": {},
   "source": [
    "Problem A3:\n",
    "Compute the conditional probability P(xi = 3 | xi-1 = 1).   Assert how this relates to problem \n",
    "directly.  Compute the same conditional probability using the definition of conditional probability.  \n"
   ]
  },
  {
   "cell_type": "code",
   "execution_count": 5,
   "metadata": {
    "collapsed": false
   },
   "outputs": [
    {
     "name": "stdout",
     "output_type": "stream",
     "text": [
      "[4, 5, 9, 6, 0, 6, 1, 7, 4, 3, 7, 2, 1, 1, 7, 0, 9, 1, 0, 9, 0, 2, 6, 2, 9, 4, 0, 3, 4, 2, 5, 7, 5, 7, 5, 1, 3, 3, 4, 9, 5, 1, 6, 9, 8, 1, 7, 9, 1, 7, 0, 1, 8, 8, 2, 8, 1, 9, 2, 3, 9, 7, 7, 7, 7, 8, 3, 2, 4, 3, 7, 7, 4, 2, 4, 0, 9, 1, 2, 2, 9, 8, 5, 3, 3, 8, 1, 3, 0, 7, 6, 8, 9, 1, 8, 7, 0, 0, 3, 4]\n",
      "0.10036388423870005\n"
     ]
    }
   ],
   "source": [
    "### This question asks us to compute the probability that a certain number is 3 if the number that preceded it was 1\n",
    "### Unlike the previous problem, where the sample space was all pairs of consecutive numbers, \n",
    "### we can use the condition of xi-1 = 1 to shrinks our sample space to just consider the numbers that follow 1. \n",
    "### Then, we look for the frequency of 3's in the new conditional sample space. \n",
    "\n",
    "old_sample = num_array \n",
    "new_sample = [] \n",
    "\n",
    "index = 0\n",
    "for digit in old_sample: \n",
    "    if index == len(old_sample)-1: \n",
    "        break \n",
    "    if old_sample[index]==1: \n",
    "        new_sample.append(old_sample[index+1])\n",
    "    index +=1 \n",
    "    \n",
    "print(new_sample[0:100])\n",
    "\n",
    "frequency_of_3 = sum( int(i==3) for i in new_sample)\n",
    "print(frequency_of_3/len(new_sample))\n",
    "\n",
    "### The probability is roughly 10% \n",
    "### To calculate this using conditional probability: \n",
    "### P(xi = 3 | xi-1 = 1) = P(xi=3, xi-1 = 1)/P(xi-1=1) = 0.01 / 0.1 = 0.1, or 10%"
   ]
  },
  {
   "cell_type": "markdown",
   "metadata": {},
   "source": [
    "Problem A4:\n",
    "Let A be the pi values at indices 1-1000\n",
    "Let B be the pi values at indices 2-1001\n",
    "Let C be the pi values at indices 3- 1002\n",
    "Compute the sample covariance matrix for A, B, C against each other. without using the built-in command (i.e. code it yourself). \n",
    "The result should be a 3x3 matrix.\n"
   ]
  },
  {
   "cell_type": "code",
   "execution_count": 188,
   "metadata": {
    "collapsed": false
   },
   "outputs": [
    {
     "name": "stdout",
     "output_type": "stream",
     "text": [
      "[[504.0, 360.0, 180.0], [360.0, 360.0, 0.0], [180.0, 0.0, 720.0]]\n"
     ]
    }
   ],
   "source": [
    "A=num_array[1:10]\n",
    "B=num_array[2:11]\n",
    "C=num_array[3:12]\n",
    "\n",
    "x = [[1/5, 1/5, 1/5, 1/5, 1/5], \n",
    "     [1/5, 1/5, 1/5, 1/5, 1/5],\n",
    "     [1/5, 1/5, 1/5, 1/5, 1/5],\n",
    "     [1/5, 1/5, 1/5, 1/5, 1/5],\n",
    "     [1/5, 1/5, 1/5, 1/5, 1/5],]\n",
    "\n",
    "y = [[90,90,60,60,30], \n",
    "     [60,90,60,60,30],\n",
    "     [90,30,60,90,30]]\n",
    "\n",
    "\n",
    "def multiply(x,y): \n",
    "    results = [] \n",
    "    height = len(x)\n",
    "    width = len(y[0])\n",
    "    yT = transpose(y)\n",
    "    for i in range(height):\n",
    "        results_row = [] \n",
    "        row_x = x[i]\n",
    "        for w in range(width): \n",
    "            column_y = yT[w] \n",
    "            positionalsum = sum([i*j for i, j in list(zip(row_x, column_y))])\n",
    "            results_row.append(positionalsum)\n",
    "        results.append(results_row)\n",
    "    return results \n",
    "\n",
    "def transpose(x):  \n",
    "    return list(zip(*x))\n",
    "\n",
    "def average(x): \n",
    "    # create square matrix of 1/n given input x \n",
    "    scalars = [[1/len(x[0]) for i in x] for i in x] \n",
    "    return multiply(x,scalars)\n",
    "\n",
    "def subtract(x, y): \n",
    "    if len(x)!=len(y):\n",
    "        print(\"matrix dimensions don't match\")\n",
    "        return False\n",
    "    height = len(x)\n",
    "    result = [] \n",
    "    for i in range(height): \n",
    "        result.append([i - j for i, j in list(zip(x[i], y[i]))])\n",
    "    return result\n",
    "\n",
    "def scalar(x, s): \n",
    "    height = len(x)\n",
    "    width = len(x[0])\n",
    "    results = [] \n",
    "    for i in range(height): \n",
    "        results_row = [] \n",
    "        row = x[i]\n",
    "        results_row = [s*item for item in row]\n",
    "        results.append(results_row)\n",
    "    return results \n",
    "\n",
    "## inputs are row matrices. Convert data to columns \n",
    "x = transpose(x)\n",
    "y  = transpose(y)\n",
    "\n",
    "averages = (multiply(x, y))\n",
    "\n",
    "deviations = subtract(y, averages)\n",
    "\n",
    "deviationsT = transpose(devs)\n",
    "sum_squares = multiply(devsT, devs)\n",
    "\n",
    "covariance_matrix = scalar(sum_squares, 0.2)\n",
    "print(covariance_matrix)"
   ]
  },
  {
   "cell_type": "markdown",
   "metadata": {},
   "source": [
    "Compute the correlation matrix for A, B, C against each other without using the built-in command (i.e. code it yourself).  The result should be a 3 x 3 matrix."
   ]
  },
  {
   "cell_type": "code",
   "execution_count": null,
   "metadata": {
    "collapsed": true
   },
   "outputs": [],
   "source": []
  },
  {
   "cell_type": "markdown",
   "metadata": {},
   "source": [
    "Problem B.  [35 pts]  Run a simulation of the Monte Hall problem with 4 doors and 1 prize.   (https://en.wikipedia.org/wiki/Monty_Hall_problem).   \n",
    "For simplicity, you can assume that the game player always initially chooses door A and the host will open one door.  The prize may be behind any of the 4 doors.  \n"
   ]
  },
  {
   "cell_type": "code",
   "execution_count": null,
   "metadata": {
    "collapsed": true
   },
   "outputs": [],
   "source": []
  },
  {
   "cell_type": "markdown",
   "metadata": {},
   "source": [
    "Based on the simulation, what is the probability of winning if you switch doors?\n"
   ]
  },
  {
   "cell_type": "code",
   "execution_count": null,
   "metadata": {
    "collapsed": true
   },
   "outputs": [],
   "source": []
  },
  {
   "cell_type": "markdown",
   "metadata": {},
   "source": [
    "Based on the simulation, what is the probability of winning if you keep door A?"
   ]
  },
  {
   "cell_type": "code",
   "execution_count": null,
   "metadata": {
    "collapsed": true
   },
   "outputs": [],
   "source": []
  },
  {
   "cell_type": "markdown",
   "metadata": {},
   "source": [
    "Problem C. [20 points]\n",
    "The distribution for BMI is shown in Figure 1.  https://www.researchgate.net/figure/6075307_fig1_Fig-1-Distribution-of-body-mass-index-BMI-This-histogram-shows-the-frequency-of-BMI.   \n",
    "<img src=\"histogram.png\">"
   ]
  },
  {
   "cell_type": "markdown",
   "metadata": {},
   "source": [
    "Problem C1  \n",
    "From the plot, is the BMI distribution skewed negative, positive, or neither?\n"
   ]
  },
  {
   "cell_type": "code",
   "execution_count": null,
   "metadata": {
    "collapsed": true
   },
   "outputs": [],
   "source": []
  },
  {
   "cell_type": "markdown",
   "metadata": {},
   "source": [
    "Problem C2\n",
    "A healthy weight is defined as having a BMI between 18.6 kg/m2 and 24.5 kg/m2.  What is the probability of having a healthy weight?"
   ]
  },
  {
   "cell_type": "code",
   "execution_count": null,
   "metadata": {
    "collapsed": true
   },
   "outputs": [],
   "source": []
  },
  {
   "cell_type": "markdown",
   "metadata": {},
   "source": [
    "Problem C3.\n",
    "The caption of the plot states that the mean BMI is 27 kg/m2 +/- 6 kg/m2.  Let’s assume that the data has a normal distribution with mean of 27 kg/m2 and a standard deviation of 6 kg/m2.  Compute the probability of someone being less than a healthy weight.  \n"
   ]
  },
  {
   "cell_type": "code",
   "execution_count": null,
   "metadata": {
    "collapsed": true
   },
   "outputs": [],
   "source": []
  },
  {
   "cell_type": "markdown",
   "metadata": {},
   "source": [
    "Problem D. [15 pts]  Linear algebra. "
   ]
  },
  {
   "cell_type": "markdown",
   "metadata": {},
   "source": [
    "Problem D1:  Compute [1 2 3]’ * [4 5 6].  The ' indicates a transpose."
   ]
  },
  {
   "cell_type": "code",
   "execution_count": null,
   "metadata": {
    "collapsed": true
   },
   "outputs": [],
   "source": []
  },
  {
   "cell_type": "markdown",
   "metadata": {},
   "source": [
    "Problem D2:  Compute [1 2; 3 4; 6 0]  *  [2 5 3 ; 2 5 1]  * [1 2 1]’ where semicolons notation separates rows within a matrix."
   ]
  },
  {
   "cell_type": "code",
   "execution_count": null,
   "metadata": {
    "collapsed": true
   },
   "outputs": [],
   "source": []
  }
 ],
 "metadata": {
  "anaconda-cloud": {},
  "kernelspec": {
   "display_name": "Python 3",
   "language": "python",
   "name": "python3"
  },
  "language_info": {
   "codemirror_mode": {
    "name": "ipython",
    "version": 3
   },
   "file_extension": ".py",
   "mimetype": "text/x-python",
   "name": "python",
   "nbconvert_exporter": "python",
   "pygments_lexer": "ipython3",
   "version": "3.5.2"
  }
 },
 "nbformat": 4,
 "nbformat_minor": 0
}
